{
 "cells": [
  {
   "cell_type": "code",
   "execution_count": 54,
   "metadata": {},
   "outputs": [],
   "source": [
    "import numpy as np\n",
    "import matplotlib.pylab as plt\n",
    "from scipy.integrate import odeint"
   ]
  },
  {
   "cell_type": "code",
   "execution_count": 55,
   "metadata": {},
   "outputs": [],
   "source": [
    "# Модель Алиева-Панфилова (1996) без пространственного члена\n",
    "#du/dt = F(u, v) = ku(1 - u)(u - a) - uv,\n",
    "#dv/dt = H(u, v) = ε(u)(ku - v),\n",
    "\n",
    "k = 8 # 8\n",
    "a = 0.15 # 0.15\n",
    "eps_0 = 0.002\n",
    "mu_1 = 0.2\n",
    "mu_2 = 0.3"
   ]
  },
  {
   "cell_type": "code",
   "execution_count": 56,
   "metadata": {},
   "outputs": [],
   "source": [
    "def eps(u,v):\n",
    "    return eps_0 + mu_1 * v / (u + mu_2)\n",
    "\n",
    "def stim(t): # стимуляция\n",
    "    return 0.1 if int(t - 1) % (500 / 12.9) < 3 else 0\n",
    "\n",
    "def pend(y, t):\n",
    "    u, v = y\n",
    "    dydt = [k * u * (1 - u) * (u - a) - u * v + stim(t), \n",
    "            eps(u, v) * (k * u - v)]\n",
    "    return dydt"
   ]
  },
  {
   "cell_type": "code",
   "execution_count": 57,
   "metadata": {},
   "outputs": [],
   "source": [
    "t = np.arange(0, 100, 20/1000.) # Равномерная вычислительная сетка по времени\n",
    "y_0 = [0.0, 0.0] # Начальные условия дифференциального уравнения"
   ]
  },
  {
   "cell_type": "code",
   "execution_count": 58,
   "metadata": {},
   "outputs": [],
   "source": [
    "sol = odeint(pend, y_0, t) # Вызов решателя"
   ]
  },
  {
   "cell_type": "code",
   "execution_count": 59,
   "metadata": {},
   "outputs": [],
   "source": [
    "t_res = 12.9 * t # Коррекция времени\n",
    "sol_res = np.array(sol, copy=True)\n",
    "sol_res[:, 0] = 100 * sol[:, 0] - 80 "
   ]
  },
  {
   "cell_type": "code",
   "execution_count": 60,
   "metadata": {},
   "outputs": [
    {
     "data": {
      "image/png": "[encoded data removed]",
      "text/plain": [
       "<Figure size 432x288 with 1 Axes>"
      ]
     },
     "metadata": {
      "needs_background": "light"
     },
     "output_type": "display_data"
    }
   ],
   "source": [
    "# Вывод всего решения\n",
    "plt.plot(t_res, sol_res[:, 0], 'b', label='V_m (mV)')\n",
    "plt.plot(t_res, sol_res[:, 1], 'g', label='inv_cond ')\n",
    "plt.legend(loc='best')\n",
    "plt.xlabel('t')\n",
    "plt.grid()\n",
    "plt.show()\n",
    "# 1 пик - инерционный"
   ]
  },
  {
   "cell_type": "code",
   "execution_count": 61,
   "metadata": {},
   "outputs": [
    {
     "data": {
      "image/png": "[encoded data removed]",
      "text/plain": [
       "<Figure size 432x288 with 1 Axes>"
      ]
     },
     "metadata": {
      "needs_background": "light"
     },
     "output_type": "display_data"
    }
   ],
   "source": [
    "# Вывод последнего ПД (потенциал действия, action potential)\n",
    "plt.plot(t_res[3500:], sol_res[3500:, 0], 'b', label='V_m (mV)')\n",
    "plt.legend(loc='best')\n",
    "plt.xlabel('t')\n",
    "plt.grid()\n",
    "plt.show()"
   ]
  },
  {
   "cell_type": "code",
   "execution_count": 66,
   "metadata": {},
   "outputs": [],
   "source": [
    "def calculate_AP_heigth(time, V_m):\n",
    "    return V_m.max() - V_m.min()\n",
    "\n",
    "def calculate_APD(time, V_m, num):\n",
    "    \n",
    "    max_ = V_m.max()\n",
    "    min_ = V_m.min()\n",
    "    apd_threshold = (max_ - min_)*(1 - num) + min_\n",
    "    idx_set = np.where(V_m > apd_threshold)[0]\n",
    "    apd = time[idx_set[-1]] - time[idx_set[0]]\n",
    "    \n",
    "    return apd"
   ]
  },
  {
   "cell_type": "code",
   "execution_count": 67,
   "metadata": {},
   "outputs": [
    {
     "name": "stdout",
     "output_type": "stream",
     "text": [
      "87.10439692956838 mV\n"
     ]
    }
   ],
   "source": [
    "print(calculate_AP_heigth(t_res[3500:], sol_res[3500:, 0]), \"mV\")"
   ]
  },
  {
   "cell_type": "code",
   "execution_count": 68,
   "metadata": {},
   "outputs": [
    {
     "name": "stdout",
     "output_type": "stream",
     "text": [
      "19.0920000000001 ms\n",
      "32.25 ms\n",
      "75.33600000000024 ms\n"
     ]
    }
   ],
   "source": [
    "print(calculate_APD(t_res[3500:], sol_res[3500:, 0], 0.2), \"ms\")\n",
    "print(calculate_APD(t_res[3500:], sol_res[3500:, 0], 0.5), \"ms\")\n",
    "print(calculate_APD(t_res[3500:], sol_res[3500:, 0], 0.9), \"ms\")"
   ]
  },
  {
   "cell_type": "code",
   "execution_count": null,
   "metadata": {},
   "outputs": [],
   "source": []
  }
 ],
 "metadata": {
  "kernelspec": {
   "display_name": "py37",
   "language": "python",
   "name": "py37"
  },
  "language_info": {
   "codemirror_mode": {
    "name": "ipython",
    "version": 3
   },
   "file_extension": ".py",
   "mimetype": "text/x-python",
   "name": "python",
   "nbconvert_exporter": "python",
   "pygments_lexer": "ipython3",
   "version": "3.7.5"
  }
 },
 "nbformat": 4,
 "nbformat_minor": 4
}
