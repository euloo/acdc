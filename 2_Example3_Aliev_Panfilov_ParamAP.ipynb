{
 "cells": [
  {
   "cell_type": "code",
   "execution_count": 1,
   "metadata": {},
   "outputs": [],
   "source": [
    "from ParamAP_lib import ParamAP\n",
    "import numpy as np\n",
    "import matplotlib.pylab as plt\n",
    "from scipy.integrate import odeint"
   ]
  },
  {
   "cell_type": "code",
   "execution_count": 2,
   "metadata": {},
   "outputs": [],
   "source": [
    "# Модель Алиева-Панфилова (1996) без пространственного члена\n",
    "#du/dt = F(u, v) = ku(1 - u)(u - a) - uv,\n",
    "#dv/dt = H(u, v) = ε(u)(ku - v),\n",
    "\n",
    "k = 8\n",
    "a = 0.15\n",
    "eps_0 = 0.002\n",
    "mu_1 = 0.2\n",
    "mu_2 = 0.3\n",
    "\n",
    "def eps(u,v):\n",
    "    return eps_0+ mu_1*v/(u+mu_2)\n",
    "\n",
    "def stim(t):\n",
    "    return 0.1 if int(t-1)%(500/12.9)<3 else 0\n",
    "\n",
    "def pend(y, t):\n",
    "    u, v = y\n",
    "    dydt = [k*u*(1 - u)*(u - a) - u*v + stim(t), \n",
    "            eps(u,v)*(k*u - v)]\n",
    "    return dydt"
   ]
  },
  {
   "cell_type": "code",
   "execution_count": 3,
   "metadata": {},
   "outputs": [],
   "source": [
    "t = np.arange(0, 200, 20/1000.) # Равномерная вычислительная сетка по времени\n",
    "y_0 = [0.0, 0.0] # Начальные условия дифференциального уравнения"
   ]
  },
  {
   "cell_type": "code",
   "execution_count": 4,
   "metadata": {},
   "outputs": [],
   "source": [
    "sol = odeint(pend, y_0, t) # Вызов решателя"
   ]
  },
  {
   "cell_type": "code",
   "execution_count": 5,
   "metadata": {},
   "outputs": [],
   "source": [
    "t_res = 12.9*t # Коррекция времени\n",
    "sol_res = np.array(sol, copy=True)\n",
    "sol_res[:, 0] = 100*sol[:, 0] - 80 "
   ]
  },
  {
   "cell_type": "code",
   "execution_count": 6,
   "metadata": {},
   "outputs": [
    {
     "data": {
      "image/png": "[encoded data removed]",
      "text/plain": [
       "<Figure size 432x288 with 1 Axes>"
      ]
     },
     "metadata": {
      "needs_background": "light"
     },
     "output_type": "display_data"
    }
   ],
   "source": [
    "# Вывод всего решения\n",
    "plt.plot(t_res, sol_res[:, 0], 'b', label='V_m (mV)')\n",
    "plt.plot(t_res, sol_res[:, 1], 'g', label='inv_cond ')\n",
    "plt.legend(loc='best')\n",
    "plt.xlabel('t')\n",
    "plt.grid()\n",
    "plt.show()"
   ]
  },
  {
   "cell_type": "code",
   "execution_count": 7,
   "metadata": {},
   "outputs": [
    {
     "data": {
      "image/png": "[encoded data removed]",
      "text/plain": [
       "<Figure size 432x288 with 1 Axes>"
      ]
     },
     "metadata": {
      "needs_background": "light"
     },
     "output_type": "display_data"
    }
   ],
   "source": [
    "# Вывод последнего ПД\n",
    "plt.plot(t_res[3500:], sol_res[3500:, 0], 'b', label='V_m (mV)')\n",
    "plt.legend(loc='best')\n",
    "plt.xlabel('t')\n",
    "plt.grid()\n",
    "plt.show()"
   ]
  },
  {
   "cell_type": "code",
   "execution_count": 8,
   "metadata": {},
   "outputs": [],
   "source": [
    "def calculate_AP_heigth(time, V_m):\n",
    "    return V_m.max() - V_m.min()\n",
    "\n",
    "def calculate_APD90(time, V_m):\n",
    "    \n",
    "    max_ = V_m.max()\n",
    "    min_ = V_m.min()\n",
    "    \n",
    "    apd90_threshold = (max_ - min_)*(1-0.9) + min_\n",
    "    idx_set = np.where(V_m > apd90_threshold)[0]\n",
    "    apd90 = time[idx_set[-1]] - time[idx_set[0]]\n",
    "    \n",
    "    return apd90"
   ]
  },
  {
   "cell_type": "code",
   "execution_count": 9,
   "metadata": {},
   "outputs": [
    {
     "name": "stdout",
     "output_type": "stream",
     "text": [
      "87.10439692956838 mV\n",
      "1543.3560000000002 ms\n"
     ]
    }
   ],
   "source": [
    "print(calculate_AP_heigth(t_res[3500:], sol_res[3500:, 0]), \"mV\")\n",
    "print(calculate_APD90(t_res[3500:], sol_res[3500:, 0]), \"ms\")"
   ]
  },
  {
   "cell_type": "code",
   "execution_count": 10,
   "metadata": {},
   "outputs": [],
   "source": [
    "XY = [t_res,sol_res[:,0]]"
   ]
  },
  {
   "cell_type": "code",
   "execution_count": 11,
   "metadata": {},
   "outputs": [
    {
     "name": "stdout",
     "output_type": "stream",
     "text": [
      ">> PLOTTING... \t\t\t\t\t\t\t\t   [OK]\n",
      ">> SETTING... \t\t\t\t\t\t\t\t   [OK]\n",
      ">> FILTERING... \t\t\t\t\t\t\t   [OK]\n",
      ">> SEARCHING... \t\t\t\t\t\t\t   [OK]\n",
      ">> REDUCING... \t\t\t\t\t\t\t\t   [OK]\n",
      ">> PLOTTING... \t\t\t\t\t\t\t\t   [OK]\n",
      ">> SAVING... \t\t\t\t\t\t\t\t   [OK]\n",
      ">> AVERAGING... \t\t\t\t\t\t\t   [OK]\n",
      ">> ANALYZING... \t\t\t\t\t\t\t   [OK]\n",
      ">> PLOTTING... \t\t\t\t\t\t\t\t   [OK]\n",
      ">> SAVING... \n",
      "RUN:\t2/2\n",
      "\n",
      ">> PLOTTING... \t\t\t\t\t\t\t\t   [OK]\n",
      ">> SETTING... \t\t\t\t\t\t\t\t   [OK]\n",
      ">> FILTERING... \t\t\t\t\t\t\t   [OK]\n",
      ">> SEARCHING... \t\t\t\t\t\t\t   [OK]\n",
      ">> REDUCING... \t\t\t\t\t\t\t\t   [OK]\n",
      ">> PLOTTING... \t\t\t\t\t\t\t\t   [OK]\n",
      ">> SAVING... \t\t\t\t\t\t\t\t   [OK]\n",
      ">> AVERAGING... \t\t\t\t\t\t\t   [OK]\n",
      ">> ANALYZING... \t\t\t\t\t\t\t   [OK]\n",
      ">> PLOTTING... \t\t\t\t\t\t\t\t   [OK]\n",
      ">> SAVING... >> CLEANING... \t\t\t\t\t\t\t\t   [OK]\n"
     ]
    },
    {
     "data": {
      "text/plain": [
       "[True, 1]"
      ]
     },
     "execution_count": 11,
     "metadata": {},
     "output_type": "execute_result"
    },
    {
     "data": {
      "text/plain": [
       "<Figure size 432x288 with 0 Axes>"
      ]
     },
     "metadata": {},
     "output_type": "display_data"
    }
   ],
   "source": [
    "ParamAP(XY)"
   ]
  },
  {
   "cell_type": "code",
   "execution_count": 12,
   "metadata": {},
   "outputs": [
    {
     "data": {
      "text/html": [
       "\n",
       "        <iframe\n",
       "            width=\"800\"\n",
       "            height=\"1000\"\n",
       "            src=\"./output.pdf\"\n",
       "            frameborder=\"0\"\n",
       "            allowfullscreen\n",
       "        ></iframe>\n",
       "        "
      ],
      "text/plain": [
       "<IPython.lib.display.IFrame at 0x7fc092072350>"
      ]
     },
     "execution_count": 12,
     "metadata": {},
     "output_type": "execute_result"
    }
   ],
   "source": [
    "from IPython.display import IFrame\n",
    "IFrame(\"./output.pdf\", width=800, height=1000)"
   ]
  },
  {
   "cell_type": "code",
   "execution_count": 13,
   "metadata": {},
   "outputs": [
    {
     "data": {
      "text/plain": [
       "['APs (#): 1\\n',\n",
       " 'FR (AP/min): nan\\n',\n",
       " 'CL (ms): 295.6679999999949\\n',\n",
       " 'DD (ms): 24.50999999999958\\n',\n",
       " 'EDD (ms): 12.125999999999792\\n',\n",
       " 'LDD (ms): 12.383999999999787\\n',\n",
       " 'APD (ms): 271.15799999999535\\n',\n",
       " 'APD50 (ms): 32.76599999999944\\n',\n",
       " 'APD90 (ms): 75.8519999999987\\n',\n",
       " 'MDP1 (mV): -79.9999999666579\\n',\n",
       " 'MDP2 (mV): -80.00000000676332\\n',\n",
       " 'THR (mV): -68.10890046996843\\n',\n",
       " 'PP (mV): 6.941896388439068\\n',\n",
       " 'APA (mV): 86.94189639520238\\n',\n",
       " 'DDR (mV/ms): 0.45176110829738536\\n',\n",
       " 'MUV (mV/ms): 5.144030920075631\\n',\n",
       " 'TRR (mV/ms): 0.0\\n',\n",
       " 'MRR (mV/ms): -4.1611108589193\\n',\n",
       " 'APs (#): 1\\n',\n",
       " 'FR (AP/min): nan\\n',\n",
       " 'CL (ms): 306.76199999999477\\n',\n",
       " 'DD (ms): 44.63399999999923\\n',\n",
       " 'EDD (ms): 22.18799999999962\\n',\n",
       " 'LDD (ms): 22.445999999999614\\n',\n",
       " 'APD (ms): 262.1279999999955\\n',\n",
       " 'APD50 (ms): 33.02399999999943\\n',\n",
       " 'APD90 (ms): 75.85199999999871\\n',\n",
       " 'MDP1 (mV): -80.00000000052441\\n',\n",
       " 'MDP2 (mV): -80.00000000324776\\n',\n",
       " 'THR (mV): -66.18992192416864\\n',\n",
       " 'PP (mV): 7.101476998107374\\n',\n",
       " 'APA (mV): 87.10147700135514\\n',\n",
       " 'DDR (mV/ms): 0.42462305410567674\\n',\n",
       " 'MUV (mV/ms): 5.166395167445616\\n',\n",
       " 'TRR (mV/ms): 0.0\\n',\n",
       " 'MRR (mV/ms): -4.160412601378926\\n']"
      ]
     },
     "execution_count": 13,
     "metadata": {},
     "output_type": "execute_result"
    }
   ],
   "source": [
    "F = open('protocol.txt','r') \n",
    "F.readlines()"
   ]
  },
  {
   "cell_type": "code",
   "execution_count": null,
   "metadata": {},
   "outputs": [],
   "source": []
  }
 ],
 "metadata": {
  "kernelspec": {
   "display_name": "py37",
   "language": "python",
   "name": "py37"
  },
  "language_info": {
   "codemirror_mode": {
    "name": "ipython",
    "version": 3
   },
   "file_extension": ".py",
   "mimetype": "text/x-python",
   "name": "python",
   "nbconvert_exporter": "python",
   "pygments_lexer": "ipython3",
   "version": "3.7.5"
  }
 },
 "nbformat": 4,
 "nbformat_minor": 4
}
